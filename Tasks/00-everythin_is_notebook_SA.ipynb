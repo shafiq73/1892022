{
 "cells": [
  {
   "cell_type": "markdown",
   "metadata": {},
   "source": [
    "# Participant\n",
    "\n",
    " Title = \"Laboratory Technician\"\n",
    "\n",
    " Name = \"Shafiq Ahmed\"\n",
    "\n",
    "\n",
    " Email = \"shafiq_ahmed73@hotmail.com\"\n",
    "\n",
    " Whatsaap = \"003345534869\"\n"
   ]
  },
  {
   "cell_type": "code",
   "execution_count": null,
   "metadata": {},
   "outputs": [],
   "source": []
  },
  {
   "cell_type": "code",
   "execution_count": null,
   "metadata": {},
   "outputs": [],
   "source": []
  },
  {
   "cell_type": "markdown",
   "metadata": {},
   "source": []
  },
  {
   "cell_type": "markdown",
   "metadata": {},
   "source": []
  },
  {
   "cell_type": "markdown",
   "metadata": {},
   "source": []
  },
  {
   "cell_type": "code",
   "execution_count": null,
   "metadata": {},
   "outputs": [],
   "source": []
  }
 ],
 "metadata": {
  "kernelspec": {
   "display_name": "Python 3.10.7 64-bit (microsoft store)",
   "language": "python",
   "name": "python3"
  },
  "language_info": {
   "name": "python",
   "version": "3.10.7"
  },
  "orig_nbformat": 4,
  "vscode": {
   "interpreter": {
    "hash": "3db2a12419d1dc787b3cd24a9c41a6ea63f46baf885d76b67ee86538dbb84068"
   }
  }
 },
 "nbformat": 4,
 "nbformat_minor": 2
}
